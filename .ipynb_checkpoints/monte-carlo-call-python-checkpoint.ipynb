{
 "cells": [
  {
   "cell_type": "markdown",
   "metadata": {},
   "source": [
    "### Use Monte Carlo technique to price European call"
   ]
  },
  {
   "cell_type": "code",
   "execution_count": 1,
   "metadata": {},
   "outputs": [],
   "source": [
    "from time import time\n",
    "from math import exp, sqrt, log\n",
    "from random import gauss, seed"
   ]
  },
  {
   "cell_type": "code",
   "execution_count": 2,
   "metadata": {},
   "outputs": [],
   "source": [
    "seed(20000)  # define seed for reproduceability"
   ]
  },
  {
   "cell_type": "code",
   "execution_count": 4,
   "metadata": {},
   "outputs": [],
   "source": [
    "S0 = 100.0\n",
    "K = 105.0\n",
    "T = 1.0\n",
    "r = 0.05\n",
    "sigma = 0.2\n",
    "M = 50  # number of time steps we divide our T into\n",
    "dt = T / M\n",
    "I = 250000  # number of stock path simulations\n"
   ]
  },
  {
   "cell_type": "code",
   "execution_count": 7,
   "metadata": {},
   "outputs": [
    {
     "name": "stdout",
     "output_type": "stream",
     "text": [
      "Value of call is 8.0226\n",
      "Elapsed time in seconds: 51.84\n"
     ]
    }
   ],
   "source": [
    "t0 = time()\n",
    "S = []\n",
    "for i in range(I):\n",
    "    path = []\n",
    "    for t in range(M + 1):  # if M were 4, we'd want t0, t1, t2, t3, t4 (5 steps)\n",
    "        if t == 0:\n",
    "            path.append(S0)\n",
    "        else:\n",
    "            z = gauss(0.0, 1.0)\n",
    "            St = path[t - 1] * exp((r - 0.5 * sigma**2) * dt + sigma * sqrt(dt) * z)\n",
    "            path.append(St)\n",
    "    S.append(path)\n",
    "    \n",
    "C0 = exp(-r * T) * sum([max(path[-1] - K, 0) for path in S]) / I  # discounted value of average intrinsic values of all paths\n",
    "\n",
    "tpy = time() - t0\n",
    "print(\"Value of call is {:.4f}\".format(C0))\n",
    "print(\"Elapsed time in seconds: {:.2f}\".format(tpy))"
   ]
  },
  {
   "cell_type": "code",
   "execution_count": null,
   "metadata": {},
   "outputs": [],
   "source": []
  }
 ],
 "metadata": {
  "kernelspec": {
   "display_name": "Python 3",
   "language": "python",
   "name": "python3"
  },
  "language_info": {
   "codemirror_mode": {
    "name": "ipython",
    "version": 3
   },
   "file_extension": ".py",
   "mimetype": "text/x-python",
   "name": "python",
   "nbconvert_exporter": "python",
   "pygments_lexer": "ipython3",
   "version": "3.6.2"
  }
 },
 "nbformat": 4,
 "nbformat_minor": 2
}
